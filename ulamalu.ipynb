{
 "cells": [
  {
   "cell_type": "markdown",
   "metadata": {},
   "source": []
  },
  {
   "cell_type": "code",
   "execution_count": 42,
   "metadata": {},
   "outputs": [],
   "source": [
    "import re\n",
    "import matplotlib.pyplot as plt\n",
    "from matplotlib import cm\n",
    "import numpy as np \n",
    "import random\n",
    "import pandas as pd\n",
    "from mpl_toolkits.mplot3d import Axes3D\n",
    "from matplotlib import image\n",
    "import matplotlib.animation as animation\n",
    "import warnings\n",
    "warnings.filterwarnings(\"ignore\")"
   ]
  },
  {
   "cell_type": "code",
   "execution_count": 43,
   "metadata": {},
   "outputs": [],
   "source": [
    "def get_next_symbol_in_ulam_loop(S):\n",
    "    if S%2==0:\n",
    "        return int(S/2)\n",
    "    else:\n",
    "        return 3*S+1\n",
    "     \n"
   ]
  },
  {
   "cell_type": "code",
   "execution_count": 44,
   "metadata": {},
   "outputs": [],
   "source": [
    "def get_ulam_loop(S,MAX_IT):\n",
    "    k=0\n",
    "    S_v=np.zeros(MAX_IT+1,dtype='int')\n",
    "    S_v[k]=S\n",
    "\n",
    "    while S_v[k]!=1:\n",
    "        \n",
    "        S_v[k+1]=get_next_symbol_in_ulam_loop(S_v[k])\n",
    "        k=k+1\n",
    "        if k==MAX_IT:\n",
    "            return S_v\n",
    "    return S_v\n",
    "    \n"
   ]
  },
  {
   "cell_type": "code",
   "execution_count": 45,
   "metadata": {},
   "outputs": [
    {
     "data": {
      "text/plain": [
       "3"
      ]
     },
     "execution_count": 45,
     "metadata": {},
     "output_type": "execute_result"
    }
   ],
   "source": [
    "get_next_symbol_in_ulam_loop(6)"
   ]
  },
  {
   "cell_type": "code",
   "execution_count": 53,
   "metadata": {},
   "outputs": [
    {
     "data": {
      "text/plain": [
       "array([  27,   82,   41,  124,   62,   31,   94,   47,  142,   71,  214,\n",
       "        107,  322,  161,  484,  242,  121,  364,  182,   91,  274,  137,\n",
       "        412,  206,  103,  310,  155,  466,  233,  700,  350,  175,  526,\n",
       "        263,  790,  395, 1186,  593, 1780,  890,  445, 1336,  668,  334,\n",
       "        167,  502,  251,  754,  377, 1132,  566,  283,  850,  425, 1276,\n",
       "        638,  319,  958,  479, 1438,  719, 2158, 1079, 3238, 1619, 4858,\n",
       "       2429, 7288, 3644, 1822,  911, 2734, 1367, 4102, 2051, 6154, 3077,\n",
       "       9232, 4616, 2308, 1154,  577, 1732,  866,  433, 1300,  650,  325,\n",
       "        976,  488,  244,  122,   61,  184,   92,   46,   23,   70,   35,\n",
       "        106,   53,  160,   80,   40,   20,   10,    5,   16,    8,    4,\n",
       "          2,    1])"
      ]
     },
     "execution_count": 53,
     "metadata": {},
     "output_type": "execute_result"
    }
   ],
   "source": [
    "MAX_IT=111\n",
    "get_ulam_loop(27,MAX_IT)"
   ]
  },
  {
   "cell_type": "code",
   "execution_count": 66,
   "metadata": {},
   "outputs": [],
   "source": [
    "def get_ulam_loop(S):\n",
    "    k=0\n",
    "    S_v=np.zeros(3,dtype='int')\n",
    "    S_v[k]=S\n",
    "\n",
    "    while S_v[k]!=1:\n",
    "        \n",
    "        \n",
    "        S_v=np.append(S_v,get_next_symbol_in_ulam_loop(S_v[k]))\n",
    "        k=k+1\n",
    "        \n",
    "    return S_v"
   ]
  },
  {
   "cell_type": "code",
   "execution_count": 67,
   "metadata": {},
   "outputs": [
    {
     "data": {
      "text/plain": [
       "array([ 3,  0,  0, 10,  0,  0,  5,  0,  0, 16,  0,  0,  8,  0,  0,  4,  0,\n",
       "        0,  2,  0,  0,  1,  0,  0])"
      ]
     },
     "execution_count": 67,
     "metadata": {},
     "output_type": "execute_result"
    }
   ],
   "source": [
    "get_ulam_loop(3)"
   ]
  },
  {
   "cell_type": "code",
   "execution_count": null,
   "metadata": {},
   "outputs": [],
   "source": []
  }
 ],
 "metadata": {
  "kernelspec": {
   "display_name": "Python 3",
   "language": "python",
   "name": "python3"
  },
  "language_info": {
   "codemirror_mode": {
    "name": "ipython",
    "version": 3
   },
   "file_extension": ".py",
   "mimetype": "text/x-python",
   "name": "python",
   "nbconvert_exporter": "python",
   "pygments_lexer": "ipython3",
   "version": "3.10.6"
  },
  "orig_nbformat": 4,
  "vscode": {
   "interpreter": {
    "hash": "916dbcbb3f70747c44a77c7bcd40155683ae19c65e1c03b4aa3499c5328201f1"
   }
  }
 },
 "nbformat": 4,
 "nbformat_minor": 2
}
