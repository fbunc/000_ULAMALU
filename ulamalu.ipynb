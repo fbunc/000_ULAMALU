{
 "cells": [
  {
   "attachments": {},
   "cell_type": "markdown",
   "metadata": {},
   "source": [
    "# ulamalu is going to meet eigen-wheels and draw together an atlas"
   ]
  },
  {
   "cell_type": "code",
   "execution_count": 312,
   "metadata": {},
   "outputs": [],
   "source": [
    "import re\n",
    "import matplotlib.pyplot as plt\n",
    "from matplotlib import cm\n",
    "import numpy as np \n",
    "import random\n",
    "import pandas as pd\n",
    "from mpl_toolkits.mplot3d import Axes3D\n",
    "from matplotlib import image\n",
    "import matplotlib.animation as animation\n",
    "import warnings\n",
    "warnings.filterwarnings(\"ignore\")"
   ]
  },
  {
   "cell_type": "code",
   "execution_count": 313,
   "metadata": {},
   "outputs": [],
   "source": [
    "def get_next_symbol_in_ulam_loop(S):\n",
    "    if S%2==0:\n",
    "        return int(S/2)\n",
    "    else:\n",
    "        return 3*S+1\n",
    "     \n"
   ]
  },
  {
   "cell_type": "code",
   "execution_count": 314,
   "metadata": {},
   "outputs": [],
   "source": [
    "def get_ulam_loop(S):\n",
    "    k=0\n",
    "    S_v=np.zeros(1,dtype='int')\n",
    "    S_v[k]=S\n",
    "\n",
    "    while S_v[k]!=1:\n",
    "        \n",
    "        \n",
    "        S_v=np.append(S_v,get_next_symbol_in_ulam_loop(S_v[k]))\n",
    "        k=k+1\n",
    "        \n",
    "    return k,S_v"
   ]
  },
  {
   "cell_type": "code",
   "execution_count": 315,
   "metadata": {},
   "outputs": [
    {
     "data": {
      "text/plain": [
       "array([  27,   82,   41,  124,   62,   31,   94,   47,  142,   71,  214,\n",
       "        107,  322,  161,  484,  242,  121,  364,  182,   91,  274,  137,\n",
       "        412,  206,  103,  310,  155,  466,  233,  700,  350,  175,  526,\n",
       "        263,  790,  395, 1186,  593, 1780,  890,  445, 1336,  668,  334,\n",
       "        167,  502,  251,  754,  377, 1132,  566,  283,  850,  425, 1276,\n",
       "        638,  319,  958,  479, 1438,  719, 2158, 1079, 3238, 1619, 4858,\n",
       "       2429, 7288, 3644, 1822,  911, 2734, 1367, 4102, 2051, 6154, 3077,\n",
       "       9232, 4616, 2308, 1154,  577, 1732,  866,  433, 1300,  650,  325,\n",
       "        976,  488,  244,  122,   61,  184,   92,   46,   23,   70,   35,\n",
       "        106,   53,  160,   80,   40,   20,   10,    5,   16,    8,    4,\n",
       "          2,    1])"
      ]
     },
     "execution_count": 315,
     "metadata": {},
     "output_type": "execute_result"
    }
   ],
   "source": [
    "k,S_v =get_ulam_loop(27)\n",
    "S_v"
   ]
  },
  {
   "cell_type": "code",
   "execution_count": 316,
   "metadata": {},
   "outputs": [
    {
     "data": {
      "text/plain": [
       "111"
      ]
     },
     "execution_count": 316,
     "metadata": {},
     "output_type": "execute_result"
    }
   ],
   "source": [
    "k"
   ]
  },
  {
   "attachments": {},
   "cell_type": "markdown",
   "metadata": {},
   "source": [
    "# 19 digit numbers \n",
    "* Check WITH CAUTION the max iterations for 3333333333333333333 and 5555555555555555555. You see what happens? Overflow\n",
    "\n",
    "* Check what happens if you add a condition to the get_ulam_loop function in the while loop to limit the number of iterations\n",
    "\n",
    "* What can we learn from this about how is being computed?"
   ]
  },
  {
   "cell_type": "code",
   "execution_count": 317,
   "metadata": {},
   "outputs": [],
   "source": [
    "import math\n",
    "\n",
    "def get_num_digits(num):\n",
    "    if num == 0:\n",
    "        return -1\n",
    "    return int(math.log10(abs(num))) + 1\n",
    "\n"
   ]
  },
  {
   "cell_type": "code",
   "execution_count": 318,
   "metadata": {},
   "outputs": [
    {
     "data": {
      "text/plain": [
       "19"
      ]
     },
     "execution_count": 318,
     "metadata": {},
     "output_type": "execute_result"
    }
   ],
   "source": [
    "num=1111111111111111111\n",
    "get_num_digits(num)\n"
   ]
  },
  {
   "cell_type": "code",
   "execution_count": 319,
   "metadata": {},
   "outputs": [
    {
     "data": {
      "text/plain": [
       "342"
      ]
     },
     "execution_count": 319,
     "metadata": {},
     "output_type": "execute_result"
    }
   ],
   "source": [
    "\n",
    "maxit,S_v =get_ulam_loop(num)\n",
    "maxit"
   ]
  },
  {
   "cell_type": "code",
   "execution_count": 320,
   "metadata": {},
   "outputs": [
    {
     "data": {
      "text/plain": [
       "397"
      ]
     },
     "execution_count": 320,
     "metadata": {},
     "output_type": "execute_result"
    }
   ],
   "source": [
    "maxit,S_v =get_ulam_loop(2222222222222222222)\n",
    "maxit"
   ]
  },
  {
   "cell_type": "code",
   "execution_count": 321,
   "metadata": {},
   "outputs": [
    {
     "data": {
      "text/plain": [
       "304"
      ]
     },
     "execution_count": 321,
     "metadata": {},
     "output_type": "execute_result"
    }
   ],
   "source": [
    "#this breaks if you add a 3 at the end giving 19 digits (not only adding a 3 the program hangs,test it)\n",
    "maxit,S_v =get_ulam_loop(333333333333333333)\n",
    "maxit"
   ]
  },
  {
   "cell_type": "code",
   "execution_count": 322,
   "metadata": {},
   "outputs": [
    {
     "data": {
      "text/plain": [
       "398"
      ]
     },
     "execution_count": 322,
     "metadata": {},
     "output_type": "execute_result"
    }
   ],
   "source": [
    "maxit,S_v =get_ulam_loop(4444444444444444444)\n",
    "maxit"
   ]
  },
  {
   "cell_type": "code",
   "execution_count": 323,
   "metadata": {},
   "outputs": [
    {
     "data": {
      "text/plain": [
       "471"
      ]
     },
     "execution_count": 323,
     "metadata": {},
     "output_type": "execute_result"
    }
   ],
   "source": [
    "#this takes a loooot of time if you change the 8 by  5 or other numbers(you should check) at the end giving 19 equal digits\n",
    "maxit,S_v =get_ulam_loop(5555555555555555558)\n",
    "maxit"
   ]
  },
  {
   "cell_type": "code",
   "execution_count": 324,
   "metadata": {},
   "outputs": [
    {
     "data": {
      "text/plain": [
       "342"
      ]
     },
     "execution_count": 324,
     "metadata": {},
     "output_type": "execute_result"
    }
   ],
   "source": [
    "num=6666666666666666666\n",
    "maxit,S_v =get_ulam_loop(num)\n",
    "maxit"
   ]
  },
  {
   "cell_type": "code",
   "execution_count": 325,
   "metadata": {},
   "outputs": [
    {
     "data": {
      "text/plain": [
       "19"
      ]
     },
     "execution_count": 325,
     "metadata": {},
     "output_type": "execute_result"
    }
   ],
   "source": [
    "get_num_digits(num)"
   ]
  },
  {
   "cell_type": "code",
   "execution_count": 326,
   "metadata": {},
   "outputs": [
    {
     "data": {
      "text/plain": [
       "371"
      ]
     },
     "execution_count": 326,
     "metadata": {},
     "output_type": "execute_result"
    }
   ],
   "source": [
    "maxit,S_v =get_ulam_loop(7777777777777777777)\n",
    "maxit"
   ]
  },
  {
   "cell_type": "code",
   "execution_count": 327,
   "metadata": {},
   "outputs": [
    {
     "data": {
      "text/plain": [
       "399"
      ]
     },
     "execution_count": 327,
     "metadata": {},
     "output_type": "execute_result"
    }
   ],
   "source": [
    "maxit,S_v =get_ulam_loop(8888888888888888888)\n",
    "maxit"
   ]
  },
  {
   "cell_type": "code",
   "execution_count": 328,
   "metadata": {},
   "outputs": [
    {
     "data": {
      "text/plain": [
       "370"
      ]
     },
     "execution_count": 328,
     "metadata": {},
     "output_type": "execute_result"
    }
   ],
   "source": [
    "maxit,S_v =get_ulam_loop(999999999999999999)\n",
    "maxit"
   ]
  },
  {
   "cell_type": "code",
   "execution_count": 329,
   "metadata": {},
   "outputs": [
    {
     "data": {
      "text/plain": [
       "303"
      ]
     },
     "execution_count": 329,
     "metadata": {},
     "output_type": "execute_result"
    }
   ],
   "source": [
    "maxit,S_v =get_ulam_loop(999999999999999999+9999999999999)\n",
    "maxit"
   ]
  },
  {
   "attachments": {},
   "cell_type": "markdown",
   "metadata": {},
   "source": [
    "# adding a limit to the loop so we see the overflow"
   ]
  },
  {
   "cell_type": "code",
   "execution_count": 330,
   "metadata": {},
   "outputs": [],
   "source": [
    "def get_ulam_loop(S):\n",
    "    k=0\n",
    "    S_v=np.zeros(1,dtype='int')\n",
    "    S_v[k]=S\n",
    "\n",
    "    while S_v[k]!=1:\n",
    "        \n",
    "        \n",
    "        S_v=np.append(S_v,get_next_symbol_in_ulam_loop(S_v[k]))\n",
    "        k=k+1\n",
    "        if k>800:\n",
    "          return k,S_v\n",
    "        \n",
    "    return k,S_v"
   ]
  },
  {
   "cell_type": "code",
   "execution_count": 331,
   "metadata": {},
   "outputs": [
    {
     "data": {
      "text/plain": [
       "array([ 3333333333333333333, -8446744073709551616, -4223372036854775808,\n",
       "       -2111686018427387904, -1055843009213693952,  -527921504606846976,\n",
       "        -263960752303423488,  -131980376151711744,   -65990188075855872,\n",
       "         -32995094037927936,   -16497547018963968,    -8248773509481984,\n",
       "          -4124386754740992,    -2062193377370496,    -1031096688685248,\n",
       "           -515548344342624,     -257774172171312,     -128887086085656,\n",
       "            -64443543042828,      -32221771521414,      -16110885760707,\n",
       "            -48332657282120,      -24166328641060,      -12083164320530,\n",
       "             -6041582160265,      -18124746480794,       -9062373240397,\n",
       "            -27187119721190,      -13593559860595,      -40780679581784,\n",
       "            -20390339790892,      -10195169895446,       -5097584947723,\n",
       "            -15292754843168,       -7646377421584,       -3823188710792,\n",
       "             -1911594355396,        -955797177698,        -477898588849,\n",
       "             -1433695766546,        -716847883273,       -2150543649818,\n",
       "             -1075271824909,       -3225815474726,       -1612907737363,\n",
       "             -4838723212088,       -2419361606044,       -1209680803022,\n",
       "              -604840401511,       -1814521204532,        -907260602266,\n",
       "              -453630301133,       -1360890903398,        -680445451699,\n",
       "             -2041336355096,       -1020668177548,        -510334088774,\n",
       "              -255167044387,        -765501133160,        -382750566580,\n",
       "              -191375283290,         -95687641645,        -287062924934,\n",
       "              -143531462467,        -430594387400,        -215297193700,\n",
       "              -107648596850,         -53824298425,        -161472895274,\n",
       "               -80736447637,        -242209342910,        -121104671455,\n",
       "              -363314014364,        -181657007182,         -90828503591,\n",
       "              -272485510772,        -136242755386,         -68121377693,\n",
       "              -204364133078,        -102182066539,        -306546199616,\n",
       "              -153273099808,         -76636549904,         -38318274952,\n",
       "               -19159137476,          -9579568738,          -4789784369,\n",
       "               -14369353106,          -7184676553,         -21554029658,\n",
       "               -10777014829,         -32331044486,         -16165522243,\n",
       "               -48496566728,         -24248283364,         -12124141682,\n",
       "                -6062070841,         -18186212522,          -9093106261,\n",
       "               -27279318782,         -13639659391,         -40918978172,\n",
       "               -20459489086,         -10229744543,         -30689233628,\n",
       "               -15344616814,          -7672308407,         -23016925220,\n",
       "               -11508462610,          -5754231305,         -17262693914,\n",
       "                -8631346957,         -25894040870,         -12947020435,\n",
       "               -38841061304,         -19420530652,          -9710265326,\n",
       "                -4855132663,         -14565397988,          -7282698994,\n",
       "                -3641349497,         -10924048490,          -5462024245,\n",
       "               -16386072734,          -8193036367,         -24579109100,\n",
       "               -12289554550,          -6144777275,         -18434331824,\n",
       "                -9217165912,          -4608582956,          -2304291478,\n",
       "                -1152145739,          -3456437216,          -1728218608,\n",
       "                 -864109304,           -432054652,           -216027326,\n",
       "                 -108013663,           -324040988,           -162020494,\n",
       "                  -81010247,           -243030740,           -121515370,\n",
       "                  -60757685,           -182273054,            -91136527,\n",
       "                 -273409580,           -136704790,            -68352395,\n",
       "                 -205057184,           -102528592,            -51264296,\n",
       "                  -25632148,            -12816074,             -6408037,\n",
       "                  -19224110,             -9612055,            -28836164,\n",
       "                  -14418082,             -7209041,            -21627122,\n",
       "                  -10813561,            -32440682,            -16220341,\n",
       "                  -48661022,            -24330511,            -72991532,\n",
       "                  -36495766,            -18247883,            -54743648,\n",
       "                  -27371824,            -13685912,             -6842956,\n",
       "                   -3421478,             -1710739,             -5132216,\n",
       "                   -2566108,             -1283054,              -641527,\n",
       "                   -1924580,              -962290,              -481145,\n",
       "                   -1443434,              -721717,             -2165150,\n",
       "                   -1082575,             -3247724,             -1623862,\n",
       "                    -811931,             -2435792,             -1217896,\n",
       "                    -608948,              -304474,              -152237,\n",
       "                    -456710,              -228355,              -685064,\n",
       "                    -342532,              -171266,               -85633,\n",
       "                    -256898,              -128449,              -385346,\n",
       "                    -192673,              -578018,              -289009,\n",
       "                    -867026,              -433513,             -1300538,\n",
       "                    -650269,             -1950806,              -975403,\n",
       "                   -2926208,             -1463104,              -731552,\n",
       "                    -365776,              -182888,               -91444,\n",
       "                     -45722,               -22861,               -68582,\n",
       "                     -34291,              -102872,               -51436,\n",
       "                     -25718,               -12859,               -38576,\n",
       "                     -19288,                -9644,                -4822,\n",
       "                      -2411,                -7232,                -3616,\n",
       "                      -1808,                 -904,                 -452,\n",
       "                       -226,                 -113,                 -338,\n",
       "                       -169,                 -506,                 -253,\n",
       "                       -758,                 -379,                -1136,\n",
       "                       -568,                 -284,                 -142,\n",
       "                        -71,                 -212,                 -106,\n",
       "                        -53,                 -158,                  -79,\n",
       "                       -236,                 -118,                  -59,\n",
       "                       -176,                  -88,                  -44,\n",
       "                        -22,                  -11,                  -32,\n",
       "                        -16,                   -8,                   -4,\n",
       "                         -2,                   -1,                   -2,\n",
       "                         -1,                   -2,                   -1,\n",
       "                         -2,                   -1,                   -2,\n",
       "                         -1,                   -2,                   -1,\n",
       "                         -2,                   -1,                   -2,\n",
       "                         -1,                   -2,                   -1,\n",
       "                         -2,                   -1,                   -2,\n",
       "                         -1,                   -2,                   -1,\n",
       "                         -2,                   -1,                   -2,\n",
       "                         -1,                   -2,                   -1,\n",
       "                         -2,                   -1,                   -2,\n",
       "                         -1,                   -2,                   -1,\n",
       "                         -2,                   -1,                   -2,\n",
       "                         -1,                   -2,                   -1,\n",
       "                         -2,                   -1,                   -2,\n",
       "                         -1,                   -2,                   -1,\n",
       "                         -2,                   -1,                   -2,\n",
       "                         -1,                   -2,                   -1,\n",
       "                         -2,                   -1,                   -2,\n",
       "                         -1,                   -2,                   -1,\n",
       "                         -2,                   -1,                   -2,\n",
       "                         -1,                   -2,                   -1,\n",
       "                         -2,                   -1,                   -2,\n",
       "                         -1,                   -2,                   -1,\n",
       "                         -2,                   -1,                   -2,\n",
       "                         -1,                   -2,                   -1,\n",
       "                         -2,                   -1,                   -2,\n",
       "                         -1,                   -2,                   -1,\n",
       "                         -2,                   -1,                   -2,\n",
       "                         -1,                   -2,                   -1,\n",
       "                         -2,                   -1,                   -2,\n",
       "                         -1,                   -2,                   -1,\n",
       "                         -2,                   -1,                   -2,\n",
       "                         -1,                   -2,                   -1,\n",
       "                         -2,                   -1,                   -2,\n",
       "                         -1,                   -2,                   -1,\n",
       "                         -2,                   -1,                   -2,\n",
       "                         -1,                   -2,                   -1,\n",
       "                         -2,                   -1,                   -2,\n",
       "                         -1,                   -2,                   -1,\n",
       "                         -2,                   -1,                   -2,\n",
       "                         -1,                   -2,                   -1,\n",
       "                         -2,                   -1,                   -2,\n",
       "                         -1,                   -2,                   -1,\n",
       "                         -2,                   -1,                   -2,\n",
       "                         -1,                   -2,                   -1,\n",
       "                         -2,                   -1,                   -2,\n",
       "                         -1,                   -2,                   -1,\n",
       "                         -2,                   -1,                   -2,\n",
       "                         -1,                   -2,                   -1,\n",
       "                         -2,                   -1,                   -2,\n",
       "                         -1,                   -2,                   -1,\n",
       "                         -2,                   -1,                   -2,\n",
       "                         -1,                   -2,                   -1,\n",
       "                         -2,                   -1,                   -2,\n",
       "                         -1,                   -2,                   -1,\n",
       "                         -2,                   -1,                   -2,\n",
       "                         -1,                   -2,                   -1,\n",
       "                         -2,                   -1,                   -2,\n",
       "                         -1,                   -2,                   -1,\n",
       "                         -2,                   -1,                   -2,\n",
       "                         -1,                   -2,                   -1,\n",
       "                         -2,                   -1,                   -2,\n",
       "                         -1,                   -2,                   -1,\n",
       "                         -2,                   -1,                   -2,\n",
       "                         -1,                   -2,                   -1,\n",
       "                         -2,                   -1,                   -2,\n",
       "                         -1,                   -2,                   -1,\n",
       "                         -2,                   -1,                   -2,\n",
       "                         -1,                   -2,                   -1,\n",
       "                         -2,                   -1,                   -2,\n",
       "                         -1,                   -2,                   -1,\n",
       "                         -2,                   -1,                   -2,\n",
       "                         -1,                   -2,                   -1,\n",
       "                         -2,                   -1,                   -2,\n",
       "                         -1,                   -2,                   -1,\n",
       "                         -2,                   -1,                   -2,\n",
       "                         -1,                   -2,                   -1,\n",
       "                         -2,                   -1,                   -2,\n",
       "                         -1,                   -2,                   -1,\n",
       "                         -2,                   -1,                   -2,\n",
       "                         -1,                   -2,                   -1,\n",
       "                         -2,                   -1,                   -2,\n",
       "                         -1,                   -2,                   -1,\n",
       "                         -2,                   -1,                   -2,\n",
       "                         -1,                   -2,                   -1,\n",
       "                         -2,                   -1,                   -2,\n",
       "                         -1,                   -2,                   -1,\n",
       "                         -2,                   -1,                   -2,\n",
       "                         -1,                   -2,                   -1,\n",
       "                         -2,                   -1,                   -2,\n",
       "                         -1,                   -2,                   -1,\n",
       "                         -2,                   -1,                   -2,\n",
       "                         -1,                   -2,                   -1,\n",
       "                         -2,                   -1,                   -2,\n",
       "                         -1,                   -2,                   -1,\n",
       "                         -2,                   -1,                   -2,\n",
       "                         -1,                   -2,                   -1,\n",
       "                         -2,                   -1,                   -2,\n",
       "                         -1,                   -2,                   -1,\n",
       "                         -2,                   -1,                   -2,\n",
       "                         -1,                   -2,                   -1,\n",
       "                         -2,                   -1,                   -2,\n",
       "                         -1,                   -2,                   -1,\n",
       "                         -2,                   -1,                   -2,\n",
       "                         -1,                   -2,                   -1,\n",
       "                         -2,                   -1,                   -2,\n",
       "                         -1,                   -2,                   -1,\n",
       "                         -2,                   -1,                   -2,\n",
       "                         -1,                   -2,                   -1,\n",
       "                         -2,                   -1,                   -2,\n",
       "                         -1,                   -2,                   -1,\n",
       "                         -2,                   -1,                   -2,\n",
       "                         -1,                   -2,                   -1,\n",
       "                         -2,                   -1,                   -2,\n",
       "                         -1,                   -2,                   -1,\n",
       "                         -2,                   -1,                   -2,\n",
       "                         -1,                   -2,                   -1,\n",
       "                         -2,                   -1,                   -2,\n",
       "                         -1,                   -2,                   -1,\n",
       "                         -2,                   -1,                   -2,\n",
       "                         -1,                   -2,                   -1,\n",
       "                         -2,                   -1,                   -2,\n",
       "                         -1,                   -2,                   -1,\n",
       "                         -2,                   -1,                   -2,\n",
       "                         -1,                   -2,                   -1,\n",
       "                         -2,                   -1,                   -2,\n",
       "                         -1,                   -2,                   -1,\n",
       "                         -2,                   -1,                   -2,\n",
       "                         -1,                   -2,                   -1,\n",
       "                         -2,                   -1,                   -2,\n",
       "                         -1,                   -2,                   -1,\n",
       "                         -2,                   -1,                   -2,\n",
       "                         -1,                   -2,                   -1,\n",
       "                         -2,                   -1,                   -2,\n",
       "                         -1,                   -2,                   -1,\n",
       "                         -2,                   -1,                   -2,\n",
       "                         -1,                   -2,                   -1,\n",
       "                         -2,                   -1,                   -2,\n",
       "                         -1,                   -2,                   -1,\n",
       "                         -2,                   -1,                   -2,\n",
       "                         -1,                   -2,                   -1,\n",
       "                         -2,                   -1,                   -2,\n",
       "                         -1,                   -2,                   -1,\n",
       "                         -2,                   -1,                   -2,\n",
       "                         -1,                   -2,                   -1,\n",
       "                         -2,                   -1,                   -2,\n",
       "                         -1,                   -2,                   -1,\n",
       "                         -2,                   -1,                   -2,\n",
       "                         -1,                   -2,                   -1,\n",
       "                         -2,                   -1,                   -2,\n",
       "                         -1,                   -2,                   -1,\n",
       "                         -2,                   -1,                   -2,\n",
       "                         -1,                   -2,                   -1,\n",
       "                         -2,                   -1,                   -2,\n",
       "                         -1,                   -2,                   -1,\n",
       "                         -2,                   -1,                   -2,\n",
       "                         -1,                   -2,                   -1,\n",
       "                         -2,                   -1,                   -2,\n",
       "                         -1,                   -2,                   -1,\n",
       "                         -2,                   -1,                   -2,\n",
       "                         -1,                   -2,                   -1,\n",
       "                         -2,                   -1,                   -2,\n",
       "                         -1,                   -2,                   -1,\n",
       "                         -2,                   -1,                   -2,\n",
       "                         -1,                   -2,                   -1,\n",
       "                         -2,                   -1,                   -2,\n",
       "                         -1,                   -2,                   -1,\n",
       "                         -2,                   -1,                   -2,\n",
       "                         -1,                   -2,                   -1,\n",
       "                         -2,                   -1,                   -2,\n",
       "                         -1,                   -2,                   -1,\n",
       "                         -2,                   -1,                   -2,\n",
       "                         -1,                   -2,                   -1,\n",
       "                         -2,                   -1,                   -2,\n",
       "                         -1,                   -2,                   -1,\n",
       "                         -2,                   -1,                   -2,\n",
       "                         -1,                   -2,                   -1,\n",
       "                         -2])"
      ]
     },
     "execution_count": 331,
     "metadata": {},
     "output_type": "execute_result"
    }
   ],
   "source": [
    "#check the overflow\n",
    "maxit,S_v =get_ulam_loop(3333333333333333333)\n",
    "S_v"
   ]
  }
 ],
 "metadata": {
  "kernelspec": {
   "display_name": "Python 3",
   "language": "python",
   "name": "python3"
  },
  "language_info": {
   "codemirror_mode": {
    "name": "ipython",
    "version": 3
   },
   "file_extension": ".py",
   "mimetype": "text/x-python",
   "name": "python",
   "nbconvert_exporter": "python",
   "pygments_lexer": "ipython3",
   "version": "3.10.6"
  },
  "orig_nbformat": 4,
  "vscode": {
   "interpreter": {
    "hash": "916dbcbb3f70747c44a77c7bcd40155683ae19c65e1c03b4aa3499c5328201f1"
   }
  }
 },
 "nbformat": 4,
 "nbformat_minor": 2
}
