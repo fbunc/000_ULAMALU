{
 "cells": [
  {
   "attachments": {},
   "cell_type": "markdown",
   "metadata": {},
   "source": [
    "# ulamalu is going to meet eigen-wheels and draw together an atlas"
   ]
  },
  {
   "cell_type": "code",
   "execution_count": 271,
   "metadata": {},
   "outputs": [],
   "source": [
    "import re\n",
    "import matplotlib.pyplot as plt\n",
    "from matplotlib import cm\n",
    "import numpy as np \n",
    "import random\n",
    "import pandas as pd\n",
    "from mpl_toolkits.mplot3d import Axes3D\n",
    "from matplotlib import image\n",
    "import matplotlib.animation as animation\n",
    "import warnings\n",
    "warnings.filterwarnings(\"ignore\")"
   ]
  },
  {
   "cell_type": "code",
   "execution_count": 272,
   "metadata": {},
   "outputs": [],
   "source": [
    "def get_next_symbol_in_ulam_loop(S):\n",
    "    if S%2==0:\n",
    "        return int(S/2)\n",
    "    else:\n",
    "        return 3*S+1\n",
    "     \n"
   ]
  },
  {
   "cell_type": "code",
   "execution_count": 273,
   "metadata": {},
   "outputs": [],
   "source": [
    "def get_ulam_loop(S):\n",
    "    k=0\n",
    "    S_v=np.zeros(1,dtype='int')\n",
    "    S_v[k]=S\n",
    "\n",
    "    while S_v[k]!=1:\n",
    "        \n",
    "        \n",
    "        S_v=np.append(S_v,get_next_symbol_in_ulam_loop(S_v[k]))\n",
    "        k=k+1\n",
    "        \n",
    "    return k,S_v"
   ]
  },
  {
   "cell_type": "code",
   "execution_count": 274,
   "metadata": {},
   "outputs": [
    {
     "data": {
      "text/plain": [
       "array([  27,   82,   41,  124,   62,   31,   94,   47,  142,   71,  214,\n",
       "        107,  322,  161,  484,  242,  121,  364,  182,   91,  274,  137,\n",
       "        412,  206,  103,  310,  155,  466,  233,  700,  350,  175,  526,\n",
       "        263,  790,  395, 1186,  593, 1780,  890,  445, 1336,  668,  334,\n",
       "        167,  502,  251,  754,  377, 1132,  566,  283,  850,  425, 1276,\n",
       "        638,  319,  958,  479, 1438,  719, 2158, 1079, 3238, 1619, 4858,\n",
       "       2429, 7288, 3644, 1822,  911, 2734, 1367, 4102, 2051, 6154, 3077,\n",
       "       9232, 4616, 2308, 1154,  577, 1732,  866,  433, 1300,  650,  325,\n",
       "        976,  488,  244,  122,   61,  184,   92,   46,   23,   70,   35,\n",
       "        106,   53,  160,   80,   40,   20,   10,    5,   16,    8,    4,\n",
       "          2,    1])"
      ]
     },
     "execution_count": 274,
     "metadata": {},
     "output_type": "execute_result"
    }
   ],
   "source": [
    "k,S_v =get_ulam_loop(27)\n",
    "S_v"
   ]
  },
  {
   "cell_type": "code",
   "execution_count": 275,
   "metadata": {},
   "outputs": [
    {
     "data": {
      "text/plain": [
       "111"
      ]
     },
     "execution_count": 275,
     "metadata": {},
     "output_type": "execute_result"
    }
   ],
   "source": [
    "k"
   ]
  },
  {
   "attachments": {},
   "cell_type": "markdown",
   "metadata": {},
   "source": [
    "# 19 digit numbers \n",
    "* Check WITH CAUTION the max iterations for 3333333333333333333 and 5555555555555555555"
   ]
  },
  {
   "cell_type": "code",
   "execution_count": 276,
   "metadata": {},
   "outputs": [],
   "source": [
    "import math\n",
    "\n",
    "def get_num_digits(num):\n",
    "    if num == 0:\n",
    "        return -1\n",
    "    return int(math.log10(abs(num))) + 1\n",
    "\n"
   ]
  },
  {
   "cell_type": "code",
   "execution_count": 277,
   "metadata": {},
   "outputs": [
    {
     "data": {
      "text/plain": [
       "19"
      ]
     },
     "execution_count": 277,
     "metadata": {},
     "output_type": "execute_result"
    }
   ],
   "source": [
    "num=1111111111111111111\n",
    "get_num_digits(num)\n"
   ]
  },
  {
   "cell_type": "code",
   "execution_count": 278,
   "metadata": {},
   "outputs": [
    {
     "data": {
      "text/plain": [
       "342"
      ]
     },
     "execution_count": 278,
     "metadata": {},
     "output_type": "execute_result"
    }
   ],
   "source": [
    "\n",
    "maxit,S_v =get_ulam_loop(num)\n",
    "maxit"
   ]
  },
  {
   "cell_type": "code",
   "execution_count": 279,
   "metadata": {},
   "outputs": [
    {
     "data": {
      "text/plain": [
       "397"
      ]
     },
     "execution_count": 279,
     "metadata": {},
     "output_type": "execute_result"
    }
   ],
   "source": [
    "maxit,S_v =get_ulam_loop(2222222222222222222)\n",
    "maxit"
   ]
  },
  {
   "cell_type": "code",
   "execution_count": 280,
   "metadata": {},
   "outputs": [
    {
     "data": {
      "text/plain": [
       "304"
      ]
     },
     "execution_count": 280,
     "metadata": {},
     "output_type": "execute_result"
    }
   ],
   "source": [
    "#this takes a loooot of time if you add a 3 at the end giving 19 digits (not only adding a 3 the program hangs,test it)\n",
    "maxit,S_v =get_ulam_loop(333333333333333333)\n",
    "maxit"
   ]
  },
  {
   "cell_type": "code",
   "execution_count": 281,
   "metadata": {},
   "outputs": [
    {
     "data": {
      "text/plain": [
       "398"
      ]
     },
     "execution_count": 281,
     "metadata": {},
     "output_type": "execute_result"
    }
   ],
   "source": [
    "maxit,S_v =get_ulam_loop(4444444444444444444)\n",
    "maxit"
   ]
  },
  {
   "cell_type": "code",
   "execution_count": 282,
   "metadata": {},
   "outputs": [
    {
     "data": {
      "text/plain": [
       "471"
      ]
     },
     "execution_count": 282,
     "metadata": {},
     "output_type": "execute_result"
    }
   ],
   "source": [
    "#this takes a loooot of time if you change the 8 by  5 or other numbers(you should check) at the end giving 19 equal digits\n",
    "maxit,S_v =get_ulam_loop(5555555555555555558)\n",
    "maxit"
   ]
  },
  {
   "cell_type": "code",
   "execution_count": 283,
   "metadata": {},
   "outputs": [
    {
     "data": {
      "text/plain": [
       "342"
      ]
     },
     "execution_count": 283,
     "metadata": {},
     "output_type": "execute_result"
    }
   ],
   "source": [
    "num=6666666666666666666\n",
    "maxit,S_v =get_ulam_loop(num)\n",
    "maxit"
   ]
  },
  {
   "cell_type": "code",
   "execution_count": 284,
   "metadata": {},
   "outputs": [
    {
     "data": {
      "text/plain": [
       "19"
      ]
     },
     "execution_count": 284,
     "metadata": {},
     "output_type": "execute_result"
    }
   ],
   "source": [
    "get_num_digits(num)"
   ]
  },
  {
   "cell_type": "code",
   "execution_count": 285,
   "metadata": {},
   "outputs": [
    {
     "data": {
      "text/plain": [
       "371"
      ]
     },
     "execution_count": 285,
     "metadata": {},
     "output_type": "execute_result"
    }
   ],
   "source": [
    "maxit,S_v =get_ulam_loop(7777777777777777777)\n",
    "maxit"
   ]
  },
  {
   "cell_type": "code",
   "execution_count": 286,
   "metadata": {},
   "outputs": [
    {
     "data": {
      "text/plain": [
       "399"
      ]
     },
     "execution_count": 286,
     "metadata": {},
     "output_type": "execute_result"
    }
   ],
   "source": [
    "maxit,S_v =get_ulam_loop(8888888888888888888)\n",
    "maxit"
   ]
  },
  {
   "cell_type": "code",
   "execution_count": 287,
   "metadata": {},
   "outputs": [
    {
     "data": {
      "text/plain": [
       "370"
      ]
     },
     "execution_count": 287,
     "metadata": {},
     "output_type": "execute_result"
    }
   ],
   "source": [
    "maxit,S_v =get_ulam_loop(999999999999999999)\n",
    "maxit"
   ]
  },
  {
   "cell_type": "code",
   "execution_count": 288,
   "metadata": {},
   "outputs": [
    {
     "data": {
      "text/plain": [
       "303"
      ]
     },
     "execution_count": 288,
     "metadata": {},
     "output_type": "execute_result"
    }
   ],
   "source": [
    "maxit,S_v =get_ulam_loop(999999999999999999+9999999999999)\n",
    "maxit"
   ]
  }
 ],
 "metadata": {
  "kernelspec": {
   "display_name": "Python 3",
   "language": "python",
   "name": "python3"
  },
  "language_info": {
   "codemirror_mode": {
    "name": "ipython",
    "version": 3
   },
   "file_extension": ".py",
   "mimetype": "text/x-python",
   "name": "python",
   "nbconvert_exporter": "python",
   "pygments_lexer": "ipython3",
   "version": "3.10.6"
  },
  "orig_nbformat": 4,
  "vscode": {
   "interpreter": {
    "hash": "916dbcbb3f70747c44a77c7bcd40155683ae19c65e1c03b4aa3499c5328201f1"
   }
  }
 },
 "nbformat": 4,
 "nbformat_minor": 2
}
